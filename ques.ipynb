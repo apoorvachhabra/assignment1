{
 "cells": [
  {
   "cell_type": "code",
   "execution_count": 1,
   "id": "09aa5650-85c7-4667-932e-60f6188b8fdd",
   "metadata": {},
   "outputs": [
    {
     "name": "stdout",
     "output_type": "stream",
     "text": [
      "!!dlroW olleH\n"
     ]
    }
   ],
   "source": [
    "def reverse_string(str):\n",
    "    return str[::-1]\n",
    "str = \"Hello World!!\"\n",
    "print(reverse_string(str))"
   ]
  },
  {
   "cell_type": "code",
   "execution_count": 6,
   "id": "9bb61deb-7dc4-4793-9946-6ffe3ff41c35",
   "metadata": {},
   "outputs": [
    {
     "name": "stdout",
     "output_type": "stream",
     "text": [
      "False\n",
      "True\n"
     ]
    }
   ],
   "source": [
    "def is_palindrome(str):\n",
    "    return str == str[::-1]\n",
    "print(is_palindrome(\"hello\"))\n",
    "print(is_palindrome(\"madam\"))\n"
   ]
  },
  {
   "cell_type": "code",
   "execution_count": 8,
   "id": "2b374c6e-4c14-450b-9e94-1a030bc14a2a",
   "metadata": {},
   "outputs": [
    {
     "name": "stdout",
     "output_type": "stream",
     "text": [
      "120\n"
     ]
    }
   ],
   "source": [
    "def factorial(n):\n",
    "    if n == 0 or n == 1:\n",
    "        return 1  \n",
    "    return n * factorial(n - 1) \n",
    "print(factorial(5)) \n"
   ]
  },
  {
   "cell_type": "code",
   "execution_count": 14,
   "id": "44e890c8-be92-498b-b130-efc1dbe2f41b",
   "metadata": {},
   "outputs": [
    {
     "name": "stdout",
     "output_type": "stream",
     "text": [
      "0 1 1 2 3 5 8 13 21 34 "
     ]
    }
   ],
   "source": [
    "def fibonacci_series(n):\n",
    "    a,b = 0,1\n",
    "    for i in range(n):\n",
    "        print(a,end=\" \")\n",
    "        a,b = b,a+b\n",
    "fibonacci_series(10)"
   ]
  },
  {
   "cell_type": "code",
   "execution_count": 17,
   "id": "3aab655f-0bf1-4c98-834b-1987d2dca5a3",
   "metadata": {},
   "outputs": [
    {
     "name": "stdout",
     "output_type": "stream",
     "text": [
      "True\n"
     ]
    }
   ],
   "source": [
    "def is_prime(n):\n",
    "    if n <= 1:\n",
    "        return False  # Not prime\n",
    "    for i in range(2, int(n**0.5) + 1):\n",
    "        if n % i == 0:\n",
    "            return False\n",
    "    return True\n",
    "\n",
    "print(is_prime(11))  # True\n"
   ]
  },
  {
   "cell_type": "code",
   "execution_count": 19,
   "id": "c6f1f78f-a527-4e8d-8bee-8694ecce82bf",
   "metadata": {},
   "outputs": [
    {
     "name": "stdout",
     "output_type": "stream",
     "text": [
      "6\n"
     ]
    }
   ],
   "source": [
    "def gcd(a, b):\n",
    "    while b:\n",
    "        a, b = b, a % b\n",
    "    return a\n",
    "\n",
    "print(gcd(48, 18))\n"
   ]
  },
  {
   "cell_type": "code",
   "execution_count": 21,
   "id": "4e252cf6-7e93-4556-8287-1eb38833792d",
   "metadata": {},
   "outputs": [
    {
     "data": {
      "text/plain": [
       "3"
      ]
     },
     "execution_count": 21,
     "metadata": {},
     "output_type": "execute_result"
    }
   ],
   "source": [
    "def count_vowels(s):\n",
    "    vowels = \"aeiouAEIOU\"\n",
    "    return sum(1 for char in s if char in vowels)\n",
    "count_vowels(\"Daakshi\")"
   ]
  },
  {
   "cell_type": "code",
   "execution_count": 25,
   "id": "ec4500ac-e730-4c7b-b395-c59f05c0d2c7",
   "metadata": {},
   "outputs": [
    {
     "data": {
      "text/plain": [
       "[5]"
      ]
     },
     "execution_count": 25,
     "metadata": {},
     "output_type": "execute_result"
    }
   ],
   "source": [
    "def show_duplicates(lst):\n",
    "    seen = set()\n",
    "    duplicate = set()\n",
    "    for item in lst:\n",
    "        if item in seen:\n",
    "            duplicate.add(item)\n",
    "        else:\n",
    "            seen.add(item)\n",
    "    return list(duplicate)\n",
    "\n",
    "show_duplicates([1,2,3,4,5,6,5,7])"
   ]
  },
  {
   "cell_type": "code",
   "execution_count": 26,
   "id": "08c62777-f8f9-4101-82ef-4f31a11d1897",
   "metadata": {},
   "outputs": [
    {
     "data": {
      "text/plain": [
       "True"
      ]
     },
     "execution_count": 26,
     "metadata": {},
     "output_type": "execute_result"
    }
   ],
   "source": [
    "def are_anagrams(s1,s2):\n",
    "    return sorted(s1)==sorted(s2)\n",
    "are_anagrams(\"listen\",\"silent\")"
   ]
  },
  {
   "cell_type": "code",
   "execution_count": 29,
   "id": "2f7a6799-a22e-4cd0-bf8f-f9540d4c72d0",
   "metadata": {},
   "outputs": [
    {
     "data": {
      "text/plain": [
       "[1, 4, 7, 2, 3, 8, 5, 9]"
      ]
     },
     "execution_count": 29,
     "metadata": {},
     "output_type": "execute_result"
    }
   ],
   "source": [
    "def merge_list(a,b):\n",
    "    result = []\n",
    "    i=j=0\n",
    "    while i<len(a) and j<len(b):\n",
    "        if a[i]<b[j]:\n",
    "            result.append(a[i])\n",
    "            i+=1\n",
    "        else:\n",
    "            result.append(b[j])\n",
    "            j+=1\n",
    "        result.extend(a[i:])\n",
    "        result.extend(b[j:])\n",
    "        return result\n",
    "merge_list([1,4,7,2],[3,8,5,9])"
   ]
  },
  {
   "cell_type": "code",
   "execution_count": 32,
   "id": "2fd889ed-fae0-4434-a5d5-b06fcf40cbb8",
   "metadata": {},
   "outputs": [
    {
     "name": "stdout",
     "output_type": "stream",
     "text": [
      "3\n"
     ]
    }
   ],
   "source": [
    "def find_missing_number(lst, n):\n",
    "    total = n * (n + 1) // 2  \n",
    "    return total - sum(lst)\n",
    "\n",
    "print(find_missing_number([1, 2, 4, 5], 5))\n"
   ]
  },
  {
   "cell_type": "code",
   "execution_count": 37,
   "id": "b88c4ce3-a826-4c0a-bdb6-4bb4a68bc4f9",
   "metadata": {},
   "outputs": [
    {
     "ename": "TypeError",
     "evalue": "'str' object is not callable",
     "output_type": "error",
     "traceback": [
      "\u001b[31m---------------------------------------------------------------------------\u001b[39m",
      "\u001b[31mTypeError\u001b[39m                                 Traceback (most recent call last)",
      "\u001b[36mCell\u001b[39m\u001b[36m \u001b[39m\u001b[32mIn[37]\u001b[39m\u001b[32m, line 6\u001b[39m\n\u001b[32m      3\u001b[39m     power = \u001b[38;5;28mlen\u001b[39m(digits)\n\u001b[32m      4\u001b[39m     \u001b[38;5;28;01mreturn\u001b[39;00m num == \u001b[38;5;28msum\u001b[39m(d**power \u001b[38;5;28;01mfor\u001b[39;00m d \u001b[38;5;129;01min\u001b[39;00m digits)\n\u001b[32m----> \u001b[39m\u001b[32m6\u001b[39m \u001b[38;5;28mprint\u001b[39m(\u001b[43mis_armstrong\u001b[49m\u001b[43m(\u001b[49m\u001b[32;43m153\u001b[39;49m\u001b[43m)\u001b[49m)  \n",
      "\u001b[36mCell\u001b[39m\u001b[36m \u001b[39m\u001b[32mIn[37]\u001b[39m\u001b[32m, line 2\u001b[39m, in \u001b[36mis_armstrong\u001b[39m\u001b[34m(num)\u001b[39m\n\u001b[32m      1\u001b[39m \u001b[38;5;28;01mdef\u001b[39;00m\u001b[38;5;250m \u001b[39m\u001b[34mis_armstrong\u001b[39m(num):\n\u001b[32m----> \u001b[39m\u001b[32m2\u001b[39m     digits = [\u001b[38;5;28mint\u001b[39m(d) \u001b[38;5;28;01mfor\u001b[39;00m d \u001b[38;5;129;01min\u001b[39;00m \u001b[38;5;28;43mstr\u001b[39;49m\u001b[43m(\u001b[49m\u001b[43mnum\u001b[49m\u001b[43m)\u001b[49m] \n\u001b[32m      3\u001b[39m     power = \u001b[38;5;28mlen\u001b[39m(digits)\n\u001b[32m      4\u001b[39m     \u001b[38;5;28;01mreturn\u001b[39;00m num == \u001b[38;5;28msum\u001b[39m(d**power \u001b[38;5;28;01mfor\u001b[39;00m d \u001b[38;5;129;01min\u001b[39;00m digits)\n",
      "\u001b[31mTypeError\u001b[39m: 'str' object is not callable"
     ]
    }
   ],
   "source": [
    "def is_armstrong(num):\n",
    "    digits = [int(d) for d in str(num)] \n",
    "    power = len(digits)\n",
    "    return num == sum(d**power for d in digits)\n",
    "\n",
    "print(is_armstrong(153))  "
   ]
  },
  {
   "cell_type": "code",
   "execution_count": 39,
   "id": "be90f19d-148e-4dfc-8496-1992eaa91277",
   "metadata": {},
   "outputs": [
    {
     "name": "stdout",
     "output_type": "stream",
     "text": [
      "True\n"
     ]
    }
   ],
   "source": [
    "import string\n",
    "\n",
    "def is_pangram(s):\n",
    "    s = s.lower()\n",
    "    for letter in string.ascii_lowercase:\n",
    "        if letter not in s:\n",
    "            return False\n",
    "    return True\n",
    "\n",
    "print(is_pangram(\"The quick brown fox jumps over the lazy dog\"))  \n"
   ]
  },
  {
   "cell_type": "code",
   "execution_count": 41,
   "id": "a71915bd-e4d1-4342-bb41-52157712cf0d",
   "metadata": {},
   "outputs": [
    {
     "name": "stdout",
     "output_type": "stream",
     "text": [
      "[1, 2, 3, 4, 5]\n"
     ]
    }
   ],
   "source": [
    "def remove_duplicates(lst):\n",
    "    return list(set(lst))\n",
    "\n",
    "print(remove_duplicates([1, 2, 2, 3, 4, 4, 5]))  # [1, 2, 3, 4, 5]\n"
   ]
  },
  {
   "cell_type": "code",
   "execution_count": 42,
   "id": "787b8113-f036-4402-a357-9a3338b6faa2",
   "metadata": {},
   "outputs": [
    {
     "name": "stdout",
     "output_type": "stream",
     "text": [
      "8\n"
     ]
    }
   ],
   "source": [
    "def second_largest(lst):\n",
    "    unique = list(set(lst))\n",
    "    unique.sort()\n",
    "    return unique[-2]\n",
    "lst=[1,3,4,6,0,5,3,8,6,9,7]\n",
    "print(second_largest(lst))"
   ]
  },
  {
   "cell_type": "code",
   "execution_count": 45,
   "id": "b8e5e470-5351-489e-a12d-a03e1477fc10",
   "metadata": {},
   "outputs": [
    {
     "name": "stdout",
     "output_type": "stream",
     "text": [
      "{1: 1, 2: 2, 3: 3}\n"
     ]
    }
   ],
   "source": [
    "def count_items(lst):\n",
    "    counts = {}\n",
    "    for item in lst:\n",
    "        counts[item] = counts.get(item, 0) + 1\n",
    "    return counts\n",
    "\n",
    "print(count_items([1, 2, 2, 3, 3, 3]))"
   ]
  },
  {
   "cell_type": "code",
   "execution_count": 46,
   "id": "7ba24036-5b70-40c9-a74d-aae6a6f38995",
   "metadata": {},
   "outputs": [
    {
     "name": "stdout",
     "output_type": "stream",
     "text": [
      "[[1, 3, 5], [2, 4, 6]]\n"
     ]
    }
   ],
   "source": [
    "def transpose(matrix):\n",
    "    return[list(row) for row in zip(*matrix)]\n",
    "matrix = [[1, 2], [3, 4], [5, 6]]\n",
    "print(transpose(matrix))"
   ]
  },
  {
   "cell_type": "code",
   "execution_count": 47,
   "id": "e6d90d9d-0a60-40f6-af35-ce0f1a9dc8f1",
   "metadata": {},
   "outputs": [
    {
     "name": "stdout",
     "output_type": "stream",
     "text": [
      "-1\n"
     ]
    }
   ],
   "source": [
    "def linear_search(lst,target):\n",
    "    for i in range(len(lst)):\n",
    "        if lst[i] == target:\n",
    "            return i\n",
    "        else:\n",
    "            return -1\n",
    "lst = [1,5,3,8,0,6,4,2]\n",
    "print(linear_search(lst,5))"
   ]
  },
  {
   "cell_type": "code",
   "execution_count": 49,
   "id": "b1f4fb12-cf09-4276-980e-8351079870b0",
   "metadata": {},
   "outputs": [
    {
     "name": "stdout",
     "output_type": "stream",
     "text": [
      "2\n"
     ]
    }
   ],
   "source": [
    "def binary_search(lst, target):\n",
    "    low, high = 0, len(lst) - 1\n",
    "    while low <= high:\n",
    "        mid = (low + high) // 2\n",
    "        if lst[mid] == target:\n",
    "            return mid\n",
    "        elif lst[mid] < target:\n",
    "            low = mid + 1\n",
    "        else:\n",
    "            high = mid - 1\n",
    "    return -1\n",
    "\n",
    "print(binary_search([10, 20, 30, 40, 50], 30)) \n"
   ]
  },
  {
   "cell_type": "code",
   "execution_count": 51,
   "id": "75c5bf8a-b4c6-4855-b8c6-a431dadd42b0",
   "metadata": {},
   "outputs": [
    {
     "name": "stdout",
     "output_type": "stream",
     "text": [
      "{5, 7}\n"
     ]
    }
   ],
   "source": [
    "def intersection_list(a,b):\n",
    "    return(set(a) & set(b))\n",
    "print(intersection_list([1,3,5,7],[2,5,7,9]))"
   ]
  },
  {
   "cell_type": "code",
   "execution_count": 57,
   "id": "8019e359-65c3-4674-816f-cfcbbce44283",
   "metadata": {},
   "outputs": [
    {
     "name": "stdout",
     "output_type": "stream",
     "text": [
      "[1, 2, 3, 4, 4, 5]\n"
     ]
    }
   ],
   "source": [
    "def flatten_list(nested):\n",
    "    flat=[]\n",
    "    for sublist in nested:\n",
    "        for item in sublist:\n",
    "            flat.append(item)\n",
    "    return flat\n",
    "print(flatten_list([[1,2],[3,4],[4,5]]))"
   ]
  },
  {
   "cell_type": "code",
   "execution_count": 59,
   "id": "85a2a5ae-b88a-4491-9d23-30f4cf8682f7",
   "metadata": {},
   "outputs": [
    {
     "ename": "TypeError",
     "evalue": "'str' object is not callable",
     "output_type": "error",
     "traceback": [
      "\u001b[31m---------------------------------------------------------------------------\u001b[39m",
      "\u001b[31mTypeError\u001b[39m                                 Traceback (most recent call last)",
      "\u001b[36mCell\u001b[39m\u001b[36m \u001b[39m\u001b[32mIn[59]\u001b[39m\u001b[32m, line 7\u001b[39m\n\u001b[32m      5\u001b[39m \u001b[38;5;28;01mdef\u001b[39;00m\u001b[38;5;250m \u001b[39m\u001b[34mfin_in_range\u001b[39m(start,end):\n\u001b[32m      6\u001b[39m     \u001b[38;5;28;01mreturn\u001b[39;00m[n \u001b[38;5;28;01mfor\u001b[39;00m n \u001b[38;5;129;01min\u001b[39;00m \u001b[38;5;28mrange\u001b[39m(start,end+\u001b[32m1\u001b[39m) \u001b[38;5;28;01mif\u001b[39;00m is_armstrong(n)]\n\u001b[32m----> \u001b[39m\u001b[32m7\u001b[39m \u001b[38;5;28mprint\u001b[39m(\u001b[43mfin_in_range\u001b[49m\u001b[43m(\u001b[49m\u001b[32;43m1\u001b[39;49m\u001b[43m,\u001b[49m\u001b[43m \u001b[49m\u001b[32;43m1000\u001b[39;49m\u001b[43m)\u001b[49m)\n",
      "\u001b[36mCell\u001b[39m\u001b[36m \u001b[39m\u001b[32mIn[59]\u001b[39m\u001b[32m, line 6\u001b[39m, in \u001b[36mfin_in_range\u001b[39m\u001b[34m(start, end)\u001b[39m\n\u001b[32m      5\u001b[39m \u001b[38;5;28;01mdef\u001b[39;00m\u001b[38;5;250m \u001b[39m\u001b[34mfin_in_range\u001b[39m(start,end):\n\u001b[32m----> \u001b[39m\u001b[32m6\u001b[39m     \u001b[38;5;28;01mreturn\u001b[39;00m[n \u001b[38;5;28;01mfor\u001b[39;00m n \u001b[38;5;129;01min\u001b[39;00m \u001b[38;5;28mrange\u001b[39m(start,end+\u001b[32m1\u001b[39m) \u001b[38;5;28;01mif\u001b[39;00m \u001b[43mis_armstrong\u001b[49m\u001b[43m(\u001b[49m\u001b[43mn\u001b[49m\u001b[43m)\u001b[49m]\n",
      "\u001b[36mCell\u001b[39m\u001b[36m \u001b[39m\u001b[32mIn[59]\u001b[39m\u001b[32m, line 2\u001b[39m, in \u001b[36mis_armstrong\u001b[39m\u001b[34m(n)\u001b[39m\n\u001b[32m      1\u001b[39m \u001b[38;5;28;01mdef\u001b[39;00m\u001b[38;5;250m \u001b[39m\u001b[34mis_armstrong\u001b[39m(n):\n\u001b[32m----> \u001b[39m\u001b[32m2\u001b[39m     digits = [\u001b[38;5;28mint\u001b[39m(d) \u001b[38;5;28;01mfor\u001b[39;00m d \u001b[38;5;129;01min\u001b[39;00m \u001b[38;5;28;43mstr\u001b[39;49m\u001b[43m(\u001b[49m\u001b[43mn\u001b[49m\u001b[43m)\u001b[49m]\n\u001b[32m      3\u001b[39m     power = \u001b[38;5;28mlen\u001b[39m(digits)\n\u001b[32m      4\u001b[39m     \u001b[38;5;28;01mreturn\u001b[39;00m n == \u001b[38;5;28msum\u001b[39m(d**power \u001b[38;5;28;01mfor\u001b[39;00m d \u001b[38;5;129;01min\u001b[39;00m digits)\n",
      "\u001b[31mTypeError\u001b[39m: 'str' object is not callable"
     ]
    }
   ],
   "source": [
    "def is_armstrong(n):\n",
    "    digits = [int(d) for d in str(n)]\n",
    "    power = len(digits)\n",
    "    return n == sum(d**power for d in digits)\n",
    "def fin_in_range(start,end):\n",
    "    return[n for n in range(start,end+1) if is_armstrong(n)]\n",
    "print(fin_in_range(1, 1000))"
   ]
  },
  {
   "cell_type": "code",
   "execution_count": 60,
   "id": "1a6b811b-2071-4561-b64c-f98573288488",
   "metadata": {},
   "outputs": [
    {
     "name": "stdout",
     "output_type": "stream",
     "text": [
      "7\n"
     ]
    }
   ],
   "source": [
    "def count_words(str):\n",
    "    words = str.split()\n",
    "    count = len(words)\n",
    "    return count\n",
    "str = \"Hello this program is written in python\"\n",
    "print(count_words(str))"
   ]
  },
  {
   "cell_type": "code",
   "execution_count": 62,
   "id": "da4b2897-f1f0-4b75-aebb-b3893510d110",
   "metadata": {},
   "outputs": [
    {
     "name": "stdout",
     "output_type": "stream",
     "text": [
      "30\n"
     ]
    }
   ],
   "source": [
    "stack =[]\n",
    "stack.append(10)\n",
    "stack.append(20)\n",
    "stack.append(30)\n",
    "stack.append(40)\n",
    "stack.pop()\n",
    "print(stack[-1])"
   ]
  },
  {
   "cell_type": "code",
   "execution_count": 64,
   "id": "ab45f681-8c9e-4fd3-83ed-7e498365745f",
   "metadata": {},
   "outputs": [
    {
     "name": "stdout",
     "output_type": "stream",
     "text": [
      "True\n",
      "False\n"
     ]
    }
   ],
   "source": [
    "def is_sorted(lst):\n",
    "    return lst == sorted(lst)\n",
    "\n",
    "print(is_sorted([1, 2, 3]))  \n",
    "print(is_sorted([3, 2, 1]))  \n"
   ]
  },
  {
   "cell_type": "code",
   "execution_count": null,
   "id": "ad1996f3-c11b-4501-9ed0-be94ec39b5ce",
   "metadata": {},
   "outputs": [],
   "source": []
  }
 ],
 "metadata": {
  "kernelspec": {
   "display_name": "Python 3 (ipykernel)",
   "language": "python",
   "name": "python3"
  },
  "language_info": {
   "codemirror_mode": {
    "name": "ipython",
    "version": 3
   },
   "file_extension": ".py",
   "mimetype": "text/x-python",
   "name": "python",
   "nbconvert_exporter": "python",
   "pygments_lexer": "ipython3",
   "version": "3.12.3"
  }
 },
 "nbformat": 4,
 "nbformat_minor": 5
}
