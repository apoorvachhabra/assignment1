{
 "cells": [
  {
   "cell_type": "code",
   "execution_count": 1,
   "id": "f185c0b1-b3c8-486f-aa9f-49e40e5c5227",
   "metadata": {},
   "outputs": [
    {
     "name": "stdin",
     "output_type": "stream",
     "text": [
      "Enter your marks in s1 34\n",
      "Enter your marks in s2 67\n",
      "Enter your marks in s3 45\n",
      "Enter your marks in s4 78\n"
     ]
    },
    {
     "name": "stdout",
     "output_type": "stream",
     "text": [
      "E\n"
     ]
    }
   ],
   "source": [
    "s1 = int(input('Enter your marks in s1'))\n",
    "s2 = int(input('Enter your marks in s2'))\n",
    "s3 = int(input('Enter your marks in s3'))\n",
    "s4 = int(input('Enter your marks in s4'))\n",
    "marks = (s1+s2+s3+s4)/4\n",
    "if marks>=90:\n",
    "    print('A')\n",
    "elif marks >=80:\n",
    "    print('B')\n",
    "elif marks>=70:\n",
    "    print('C')\n",
    "elif marks >= 60:\n",
    "    print('D')\n",
    "elif marks >= 50:\n",
    "    print('E')\n",
    "else: \n",
    "    print('FAIL ;(') "
   ]
  },
  {
   "cell_type": "code",
   "execution_count": 5,
   "id": "cf7890d1-096f-4e6c-869a-dea3be0be6b5",
   "metadata": {},
   "outputs": [
    {
     "name": "stdin",
     "output_type": "stream",
     "text": [
      "Enter passenger age:  12\n",
      "Enter base fare: ₹ 200\n"
     ]
    },
    {
     "name": "stdout",
     "output_type": "stream",
     "text": [
      "Final Ticket Fare: ₹ 100.0\n"
     ]
    }
   ],
   "source": [
    "age = int(input(\"Enter passenger age: \"))\n",
    "fare = float(input(\"Enter base fare: ₹\"))\n",
    "\n",
    "if age <= 5:\n",
    "    tfare = 0  \n",
    "elif age <= 18:\n",
    "    tfare = fare * 0.5  \n",
    "elif age >= 60:\n",
    "    tfare = fare * 0.7  \n",
    "else:\n",
    "    tfare = fare\n",
    "\n",
    "print(f\"Final Ticket Fare: ₹\",tfare)"
   ]
  },
  {
   "cell_type": "code",
   "execution_count": 7,
   "id": "4ef89878-5259-447a-a3a9-ce13f8a125ea",
   "metadata": {},
   "outputs": [
    {
     "name": "stdin",
     "output_type": "stream",
     "text": [
      "Enter number of overdue days:  5\n"
     ]
    },
    {
     "name": "stdout",
     "output_type": "stream",
     "text": [
      "Total fine: ₹ 10\n"
     ]
    }
   ],
   "source": [
    "days = int(input(\"Enter number of overdue days: \"))\n",
    "\n",
    "if days <= 0:\n",
    "    fine = 0\n",
    "elif days <= 5:\n",
    "    fine = days * 2 \n",
    "elif days <= 10:\n",
    "    fine = days*5  \n",
    "else:\n",
    "    fine = days*10 \n",
    "print(f\"Total fine: ₹\",fine)"
   ]
  },
  {
   "cell_type": "code",
   "execution_count": 15,
   "id": "01450c9b-9462-4749-ad31-c5a0cf5007af",
   "metadata": {},
   "outputs": [
    {
     "name": "stdin",
     "output_type": "stream",
     "text": [
      "Enter username:  dk\n",
      "Enter password:  1234\n"
     ]
    },
    {
     "name": "stdout",
     "output_type": "stream",
     "text": [
      "Invalid credentials   2  attempts left\n"
     ]
    },
    {
     "name": "stdin",
     "output_type": "stream",
     "text": [
      "Enter username:  admin\n",
      "Enter password:  1234\n"
     ]
    },
    {
     "name": "stdout",
     "output_type": "stream",
     "text": [
      "Login successful\n"
     ]
    }
   ],
   "source": [
    "username = 'admin'\n",
    "password = \"1234\"\n",
    "for i in range(3):\n",
    "    user = input(\"Enter username: \")\n",
    "    pwd = input(\"Enter password: \")\n",
    "\n",
    "    if user == username and pwd == password:\n",
    "        print(\"Login successful\")\n",
    "        break\n",
    "    else:\n",
    "        print(\"Invalid credentials  \" ,(2-i), \" attempts left\")\n",
    "\n",
    "else:\n",
    "    print(\"Too many failed attempts. Access denied \")"
   ]
  },
  {
   "cell_type": "code",
   "execution_count": 17,
   "id": "73d6c6ea-52ac-4565-a285-13d1aaa1f3ca",
   "metadata": {},
   "outputs": [
    {
     "name": "stdout",
     "output_type": "stream",
     "text": [
      "\t Menu\n",
      "1) Addtion\n",
      "2) Subraction\n",
      "3)Division\n",
      "4)Multiply\n"
     ]
    },
    {
     "name": "stdin",
     "output_type": "stream",
     "text": [
      "Enter first number 2\n",
      "Enter second number 4\n",
      "Enter your choice +\n"
     ]
    },
    {
     "name": "stdout",
     "output_type": "stream",
     "text": [
      "6\n"
     ]
    }
   ],
   "source": [
    "print('\\t Menu')\n",
    "print('1) Addtion\\n2) Subraction\\n3)Division\\n4)Multiply')\n",
    "a = int(input('Enter first number'))\n",
    "b = int(input('Enter second number'))\n",
    "choice = input('Enter your choice')\n",
    "if choice == '+':\n",
    "    print(a+b)\n",
    "elif choice == '-':\n",
    "    print(a-b)\n",
    "elif choice == '*':\n",
    "    print(a*b)\n",
    "elif choice == '/':\n",
    "    print(b/a)"
   ]
  },
  {
   "cell_type": "code",
   "execution_count": 21,
   "id": "cdbfb4ea-de8e-4891-a380-db3979de591a",
   "metadata": {},
   "outputs": [
    {
     "name": "stdin",
     "output_type": "stream",
     "text": [
      "Enter your age 34\n"
     ]
    },
    {
     "name": "stdout",
     "output_type": "stream",
     "text": [
      "Eligible to vote\n",
      "Eligible to drive car\n"
     ]
    }
   ],
   "source": [
    "age = int(input('Enter your age'))\n",
    "if age>=18:\n",
    "    print(\"Eligible to vote\")\n",
    "else:\n",
    "    print(\"Not eligible to vote\")\n",
    "if age >=18:\n",
    "    print(\"Eligible to drive car\")\n",
    "elif age >=16:\n",
    "    print(\"Eligible to drive two wheeler\")\n",
    "else:\n",
    "    print(\"Not eligible to drive\")"
   ]
  },
  {
   "cell_type": "code",
   "execution_count": 25,
   "id": "62735864-002a-408c-a4b2-985d0e943555",
   "metadata": {},
   "outputs": [
    {
     "name": "stdout",
     "output_type": "stream",
     "text": [
      "\tElectricity Bill Generator\n",
      "unit<=100:0\n",
      "unit<=200:Rs.5\n",
      "\n"
     ]
    },
    {
     "name": "stdin",
     "output_type": "stream",
     "text": [
      "Enter Units:  400\n"
     ]
    },
    {
     "name": "stdout",
     "output_type": "stream",
     "text": [
      "Electricity Bill:  2500\n"
     ]
    }
   ],
   "source": [
    "print(\"\\tElectricity Bill Generator\\nunit<=100:0\\nunit<=200:Rs.5\\n\")\n",
    "unit=int(input(\"Enter Units: \"))\n",
    "\n",
    "if unit<=100:\n",
    "    bill=0\n",
    "    print(\"Rs.0\")\n",
    "elif unit<=200:\n",
    "    rate=unit-100\n",
    "    bill=rate*5\n",
    "else:\n",
    "    rate=unit-200\n",
    "    bill=rate*10+500\n",
    "    \n",
    "print(\"Electricity Bill: \",bill)"
   ]
  },
  {
   "cell_type": "code",
   "execution_count": null,
   "id": "d40ce1d4-dd1b-4933-a4d7-af8c82db5e66",
   "metadata": {},
   "outputs": [],
   "source": []
  }
 ],
 "metadata": {
  "kernelspec": {
   "display_name": "Python 3 (ipykernel)",
   "language": "python",
   "name": "python3"
  },
  "language_info": {
   "codemirror_mode": {
    "name": "ipython",
    "version": 3
   },
   "file_extension": ".py",
   "mimetype": "text/x-python",
   "name": "python",
   "nbconvert_exporter": "python",
   "pygments_lexer": "ipython3",
   "version": "3.12.4"
  }
 },
 "nbformat": 4,
 "nbformat_minor": 5
}
